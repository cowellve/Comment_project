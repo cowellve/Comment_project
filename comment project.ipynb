{
 "cells": [
  {
   "cell_type": "code",
   "execution_count": 1,
   "metadata": {},
   "outputs": [
    {
     "name": "stdout",
     "output_type": "stream",
     "text": [
      "['Name', 'Gender', 'Test1', 'Test2', 'Test3', 'Problem Set 1-3 Average', 'Problem Set 4-6 Average', 'Problem Set Average', 'Grade', 'Asked for help', 'Banking Project', 'Contributed to Project', 'Self Reflection']\n",
      "['Abigail', 'F', '94', '98', '96', '98', '94', '96', '96', 'Y', '93', 'Y', 'I think I am doing well in Computer Science. I especially did well on the second test.']\n",
      "['Bob', 'M', '74', '69', '68', '72', '77', '74.5', '72', 'N', '69', 'N', 'I like to play video games in class, which means I am not focused.']\n",
      "['Jill', 'F', '85', '88', '90', '88', '94', '91', '89', 'Y', '93', 'Y', 'Computer Science is a very fascinating class. I am engaged in class and turn my homework in on time.']\n",
      "['Presley', 'M', '84', '91', '70', '74', '82', '78', '80.2', 'N', '94', 'Y', 'I found it is hard for me to focus in class. Some of the concepts are hard to understand.']\n",
      "['Frank', 'M', '100', '100', '98', '97', '99', '98', '98.8', 'N', '94', 'Y', 'I enjoy having this class. Everything is easy for me. I made couple mistakes in the problem set because I was careless.']\n",
      "['Alexandria', 'F', '92', '89', '87', '93', '95', '94', '91.2', 'Y', '94', 'Y', \"I can't believe I only have an A-.\"]\n"
     ]
    }
   ],
   "source": [
    "import csv\n",
    "\n",
    "def gradesentence2(row[8]):\n",
    "    if float(row[8]) > 90:\n",
    "        return(f'{row[0]} performed very well on problem set 1-3.')\n",
    "    elif float(row[8]) > 80:\n",
    "        return(f'{row[0]} performed well on problem set 1-3')\n",
    "    elif float(row[8]) > 70:\n",
    "        return(f'{row[0]} perfomed above average on problem set 1-3')\n",
    "    else:\n",
    "        return(f'{row[0]} perfomed okay on problem set 1-3')\n",
    "\n",
    "def help_1(row[8],row[9]):\n",
    "    if row[8] >90:\n",
    "        if row[0] == 'Y':\n",
    "            return(f'row[0] did a good job asking for help this semester.')\n",
    "        else:\n",
    "            return(f\"{row[0]} didn't ask for much help this semester. But {pronoun} didn't seem to need it.\")\n",
    "    elif row[9] == 'N':\n",
    "            return(f\"{row[0]} should ask for more help on assignments.\")\n",
    "    \n",
    "def contribution(row[10]):\n",
    "    if row[10] == 'Y':\n",
    "        return(f'{row[0]} did a good job contributing to the group bank project.')\n",
    "    else:\n",
    "        return(f'{row[0]} did a poor job contributing to the group bank project.')\n",
    "        \n",
    "\n",
    "\n",
    "with open('Comp Sci Project.csv') as csvfile:\n",
    "    data = csv.reader(csvfile, delimiter=',')\n",
    "    for row in data:\n",
    "        print(row)"
   ]
  },
  {
   "cell_type": "code",
   "execution_count": 1,
   "metadata": {},
   "outputs": [
    {
     "ename": "FileNotFoundError",
     "evalue": "[Errno 2] No such file or directory: 'teacher.csv'",
     "output_type": "error",
     "traceback": [
      "\u001b[0;31m---------------------------------------------------------------------------\u001b[0m",
      "\u001b[0;31mFileNotFoundError\u001b[0m                         Traceback (most recent call last)",
      "\u001b[0;32m<ipython-input-1-492793c1b8e0>\u001b[0m in \u001b[0;36m<module>\u001b[0;34m()\u001b[0m\n\u001b[1;32m     56\u001b[0m     \u001b[0;32mreturn\u001b[0m \u001b[0;34mf'{row[0]} wrote in {pronoun} reflection:\\n\\n\\t\"{ref}\"\\n\\n'\u001b[0m\u001b[0;34m\u001b[0m\u001b[0m\n\u001b[1;32m     57\u001b[0m \u001b[0;34m\u001b[0m\u001b[0m\n\u001b[0;32m---> 58\u001b[0;31m \u001b[0;32mwith\u001b[0m \u001b[0mopen\u001b[0m\u001b[0;34m(\u001b[0m\u001b[0;34m'teacher.csv'\u001b[0m\u001b[0;34m)\u001b[0m \u001b[0;32mas\u001b[0m \u001b[0mcsvfile\u001b[0m\u001b[0;34m:\u001b[0m\u001b[0;34m\u001b[0m\u001b[0m\n\u001b[0m\u001b[1;32m     59\u001b[0m     \u001b[0mdata\u001b[0m \u001b[0;34m=\u001b[0m \u001b[0mcsv\u001b[0m\u001b[0;34m.\u001b[0m\u001b[0mreader\u001b[0m\u001b[0;34m(\u001b[0m\u001b[0mcsvfile\u001b[0m\u001b[0;34m,\u001b[0m \u001b[0mdelimiter\u001b[0m\u001b[0;34m=\u001b[0m\u001b[0;34m','\u001b[0m\u001b[0;34m)\u001b[0m\u001b[0;34m\u001b[0m\u001b[0m\n\u001b[1;32m     60\u001b[0m     \u001b[0mheader\u001b[0m \u001b[0;34m=\u001b[0m \u001b[0mnext\u001b[0m\u001b[0;34m(\u001b[0m\u001b[0mdata\u001b[0m\u001b[0;34m)\u001b[0m\u001b[0;34m\u001b[0m\u001b[0m\n",
      "\u001b[0;31mFileNotFoundError\u001b[0m: [Errno 2] No such file or directory: 'teacher.csv'"
     ]
    }
   ],
   "source": [
    "import csv\n",
    "\n",
    "\n",
    "def gradesentence2():\n",
    "    if float(row[8]) > 90:\n",
    "        return(f'{row[0]} performed very well on problem set 1-3.')\n",
    "    elif float(row[8]) > 80:\n",
    "        return(f'{row[0]} performed well on problem set 1-3')\n",
    "    elif float(row[8]) > 70:\n",
    "        return(f'{row[0]} perfomed above average on problem set 1-3')\n",
    "    else:\n",
    "        return(f'{row[0]} perfomed okay on problem set 1-3')\n",
    "\n",
    "def help_1(pronoun):\n",
    "    if float(row[8]) >90:\n",
    "        if row[9] == 'Y':\n",
    "            return(f'{row[0]} did a good job asking for help this semester.')\n",
    "        else:\n",
    "            return(f\"{row[0]} didn't ask for much help this semester. But {pronoun} didn't seem to need it.\")\n",
    "    elif row[9] == 'N':\n",
    "            return(f\"{row[0]} should ask for more help on assignments.\")\n",
    "    \n",
    "def contribution():\n",
    "    if row[10] == 'Y':\n",
    "        return(f'{row[0]} did a good job contributing to the group bank project.')\n",
    "    else:\n",
    "        return(f'{row[0]} did a poor job contributing to the group bank project.')\n",
    "\n",
    "\n",
    "def grade_sentence(grade):\n",
    "    if float(grade) > 90:\n",
    "        return f'{row[0]} is doing very well in Computer Science.'\n",
    "    elif float(grade) > 80:\n",
    "        return f'{row[0]} is doing well in Computer Science.'\n",
    "    elif float(grade) > 70:\n",
    "        return f'{row[0]} is doing alright in Computer Science.'\n",
    "    else:\n",
    "        return f'{row[0]} is doing okay in Computer Science.'\n",
    "\n",
    "def he_she_pronoun():\n",
    "    if row[1] == 'F':\n",
    "        return 'she'\n",
    "    return 'he'\n",
    "\n",
    "def his_her_pronoun():\n",
    "    if row[1] == 'F':\n",
    "        return 'her'\n",
    "    return 'his'\n",
    "\n",
    "def improve_problem_set(ps1, ps2):\n",
    "    if float(ps2) > float(ps1):\n",
    "        return f'{row[0]} showed improvement in the problem sets over the course of the semester.'\n",
    "    return f'{row[0]} should continue working hard on the problem sets as they continue to get harder.'\n",
    "\n",
    "def self_reflection(ref, pronoun):\n",
    "    return f'{row[0]} wrote in {pronoun} reflection:\\n\\n\\t\"{ref}\"\\n\\n'\n",
    "\n",
    "with open('teacher.csv') as csvfile:\n",
    "    data = csv.reader(csvfile, delimiter=',')\n",
    "    header = next(data)\n",
    "    print(header, '\\n')\n",
    "    for row in data:\n",
    "        print('   ', grade_sentence(row[8]), he_she_pronoun().title(), 'has a grade of', row[8], 'for this semester.',\n",
    "              gradesentence2(), improve_problem_set(row[5],row[6]), self_reflection(row[-1], his_her_pronoun()), '  ',\n",
    "              help_1(he_she_pronoun()), contribution())\n",
    "        print('\\n\\n\\n\\n')\n"
   ]
  },
  {
   "cell_type": "code",
   "execution_count": null,
   "metadata": {},
   "outputs": [],
   "source": [
    "6"
   ]
  }
 ],
 "metadata": {
  "kernelspec": {
   "display_name": "Python 3",
   "language": "python",
   "name": "python3"
  },
  "language_info": {
   "codemirror_mode": {
    "name": "ipython",
    "version": 3
   },
   "file_extension": ".py",
   "mimetype": "text/x-python",
   "name": "python",
   "nbconvert_exporter": "python",
   "pygments_lexer": "ipython3",
   "version": "3.7.0"
  }
 },
 "nbformat": 4,
 "nbformat_minor": 2
}
